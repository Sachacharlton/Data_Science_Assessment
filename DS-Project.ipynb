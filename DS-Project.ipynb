{
 "cells": [
  {
   "cell_type": "code",
   "execution_count": 77,
   "id": "9a68b2f0-91b6-402b-9f2d-6912454ddbb3",
   "metadata": {},
   "outputs": [],
   "source": [
    "from Bio.Seq import Seq"
   ]
  },
  {
   "cell_type": "code",
   "execution_count": 78,
   "id": "84e1b3ef-5826-43c5-8655-8c449e0959ab",
   "metadata": {},
   "outputs": [],
   "source": [
    "from Bio import SeqIO"
   ]
  },
  {
   "cell_type": "markdown",
   "id": "bf0bed61-25a6-464e-b003-bb075b7ce971",
   "metadata": {
    "tags": []
   },
   "source": [
    "### Loading in DNA sequences from Project \n",
    "\n",
    "_Aims:_ \n",
    "- Load in a DNA sequence\n",
    "- Use code to translate codons (account for redundancies - take the E. coli most frequent) find the primers based on the codons (5' end first 6 codons) and then the compliment codon sequence last 6 codons for reverse\n",
    "- Define function to calculate the G+C content of overall codon sequence and primer sequences\n",
    "- Calculate the Mw of the total sequence based on dictionary of amino acid residues"
   ]
  },
  {
   "cell_type": "code",
   "execution_count": 79,
   "id": "76e2933a-3832-443a-8ba0-a4caa72110a8",
   "metadata": {},
   "outputs": [
    {
     "name": "stdout",
     "output_type": "stream",
     "text": [
      "ID: AAM12910.1\n",
      "Name: AAM12910.1\n",
      "Description: AAM12910.1 MupB [Pseudomonas fluorescens]\n",
      "Number of features: 0\n",
      "Seq('MRTAYLASTAYVLGEQAHDYRDAASFEAVCKQHSMPDFASVFGWGTYWRTTRSV...SDA')\n"
     ]
    }
   ],
   "source": [
    "mupB = SeqIO.read(\"AAM12910.1.fasta\", \"fasta\") #loading in the mupB ORF sequence that is investigated in my project from NCBI \n",
    "                                                                                        #fasta sequence\n",
    "print(mupB)"
   ]
  },
  {
   "cell_type": "code",
   "execution_count": 80,
   "id": "d54e8423-be3d-4aa0-a92c-30be3a38ea1e",
   "metadata": {},
   "outputs": [
    {
     "name": "stdout",
     "output_type": "stream",
     "text": [
      "MRTAYLASTAYVLGEQAHDYRDAASFEAVCKQHSMPDFASVFGWGTYWRTTRSVGELLVESVASTLASSGLRGCDIDALVVCSSNFESGQVVDYLPLLRELQLARAFPLGVTWGDCTMLLAGLEVARAQVLAGLDNVLVVSANRIEDEAFRFQHYALFSDGAASCLVTSGRRRGFEMLGSLARSNAGLAHDPKEDDTRLFREVHEQFMHRQQINTADLEQVVCSNVFLPVLKIKEGRQGVSGTQLYVDNVTRVGHCFSADSLINLCDYQARAQQVHGGLVMLTANADGLRCQTLLQRVSDA\n"
     ]
    }
   ],
   "source": [
    "mupB_seq = mupB.seq\n",
    "\n",
    "print(mupB_seq) #taking the sequence of mupB and defining it as new sequence input with the .seq function (from miligram course)"
   ]
  },
  {
   "cell_type": "code",
   "execution_count": 81,
   "id": "61c860fc-592a-4607-9bcb-1186bb61f89d",
   "metadata": {},
   "outputs": [],
   "source": [
    "DNA_codons = {\n",
    "    'TTT':'F', 'TTC':'F', 'TTA':'L', 'TTG':'L', 'TAT':'Y', 'TAC':'Y', \n",
    "    'TAA':'stop', 'TAG':'stop', 'CTT':'L', 'CTC':'L', 'CTA':'L', 'CTG':'L', 'CAT':'H', \n",
    "    'CAC':'H', 'CAA':'Q', 'CAG':'H', 'ATT':'I', 'ATC':'I', 'ATA':'I', 'ATG':'M',\n",
    "    'AAT':'N', 'AAC':'N', 'AAA':'L', 'AAG':'K', 'GTT':'V', 'GTC':'V',\n",
    "    'GTA':'V', 'GTG':'V', 'GAT':'D', 'GAC':'D', 'GAA':'E',\n",
    "    'GAG':'E', 'TCT':'S', 'TCC':'S', 'TCA':'S', 'TCG':'S', 'TGT':'S', 'TGC':'S', \n",
    "    'TGA':'stop', 'TGG':'W', 'CCT':'P', 'CCC':'P', 'CCA':'P', 'CCG':'P', 'CGT':'R', \n",
    "    'CGC':'R', 'CGA':'R', 'CGG':'R', 'ACT':'T', 'ACC':'T', 'ACA':'T', 'ACG':'T', 'AGT':'S', \n",
    "    'AGC':'S', 'AGA':'R', 'AGG':'R', 'GCT':'A', 'GCC':'A', 'GCA':'A', 'GCG':'A', 'GGT':'G',\n",
    "    'GGC':'G', 'GGA':'G', 'GGG':'G'\n",
    "}  # E.coli genetic code put in a dictionary - this wouldn't work very well \n",
    "            #as there are codon redundancies (amino acids for more than one codon) \n",
    "            #- the way this is written could be okay as I have put the codons in the dictionary first\n",
    "                #so that the codon is defined by the amino acid as opposed to the other way round\n",
    "            #but may reach difficulities in the loop when one letter would be read at a time passing\n",
    "            #through the loop as opposed to 3 that need to be used as codons"
   ]
  },
  {
   "cell_type": "code",
   "execution_count": 82,
   "id": "291618d4-6321-4aa0-b5ba-58fa2dc72ac8",
   "metadata": {},
   "outputs": [
    {
     "data": {
      "text/plain": [
       "Seq('MRTAYLASTAYVLGEQAHDYRDAASFEAVCKQHSMPDFASVFGWGTYWRTTRSV...SDA')"
      ]
     },
     "execution_count": 82,
     "metadata": {},
     "output_type": "execute_result"
    }
   ],
   "source": [
    "mupB_seq"
   ]
  },
  {
   "cell_type": "code",
   "execution_count": 99,
   "id": "c661a1b1-e817-4e41-a232-8056e9bbcd0a",
   "metadata": {},
   "outputs": [],
   "source": [
    "#E.coli optimised codons\n",
    "optimised_codons = {\n",
    "    'F': 'TTT', 'L': 'CTG', 'Y': 'TAT', 'H': 'CAT', 'Q': 'CAG', 'I': 'ATT', \n",
    "    'M': 'ATG', 'N': 'AAC', 'K': 'AAA', 'V': 'GTG', 'D': 'GAT', 'E': 'GAA',\n",
    "    'S': 'AGC', 'C': 'TGC', 'W': 'TGG', 'P': 'CCG', 'R': 'CGT', 'T': 'ACC',\n",
    "    'A': 'GCG', 'G': 'GGC'    \n",
    "} #codons for the amino acids with the highest frequency/thousand as seen\n",
    "                    #https://www.genscript.com/tools/codon-frequency-table\n",
    "                    #for expression in E. coli (E. coli optimised codons)"
   ]
  },
  {
   "cell_type": "code",
   "execution_count": 84,
   "id": "5048670a-2fd5-4fc0-afae-22e517b5fb4b",
   "metadata": {},
   "outputs": [],
   "source": [
    "mupB_codons = [] #empty list to be filled for the mupB_codons based on\n",
    "                    #the optimised codon dictionary"
   ]
  },
  {
   "cell_type": "code",
   "execution_count": 85,
   "id": "ff2b7b40-7ece-4f24-bf9e-4a9be8baf1e5",
   "metadata": {},
   "outputs": [],
   "source": [
    "            #taken from the sequence on NCBI\n",
    "for amino_acid in mupB_seq: #looking for the amino acids in the mubB_seq\n",
    "    codon = optimised_codons[amino_acid]\n",
    "    mupB_codons.append(codon) "
   ]
  },
  {
   "cell_type": "code",
   "execution_count": 86,
   "id": "df3e6416-da77-4658-9eb0-13139ee270ff",
   "metadata": {},
   "outputs": [],
   "source": [
    "codon_output = \"\".join(mupB_codons)"
   ]
  },
  {
   "cell_type": "code",
   "execution_count": 87,
   "id": "d9094425-1a58-47a7-b733-7398faf97807",
   "metadata": {},
   "outputs": [
    {
     "name": "stdout",
     "output_type": "stream",
     "text": [
      "ATGCGTACCGCGTATCTGGCGAGCACCGCGTATGTGCTGGGCGAACAGGCGCATGATTATCGTGATGCGGCGAGCTTTGAAGCGGTGTGCAAACAGCATAGCATGCCGGATTTTGCGAGCGTGTTTGGCTGGGGCACCTATTGGCGTACCACCCGTAGCGTGGGCGAACTGCTGGTGGAAAGCGTGGCGAGCACCCTGGCGAGCAGCGGCCTGCGTGGCTGCGATATTGATGCGCTGGTGGTGTGCAGCAGCAACTTTGAAAGCGGCCAGGTGGTGGATTATCTGCCGCTGCTGCGTGAACTGCAGCTGGCGCGTGCGTTTCCGCTGGGCGTGACCTGGGGCGATTGCACCATGCTGCTGGCGGGCCTGGAAGTGGCGCGTGCGCAGGTGCTGGCGGGCCTGGATAACGTGCTGGTGGTGAGCGCGAACCGTATTGAAGATGAAGCGTTTCGTTTTCAGCATTATGCGCTGTTTAGCGATGGCGCGGCGAGCTGCCTGGTGACCAGCGGCCGTCGTCGTGGCTTTGAAATGCTGGGCAGCCTGGCGCGTAGCAACGCGGGCCTGGCGCATGATCCGAAAGAAGATGATACCCGTCTGTTTCGTGAAGTGCATGAACAGTTTATGCATCGTCAGCAGATTAACACCGCGGATCTGGAACAGGTGGTGTGCAGCAACGTGTTTCTGCCGGTGCTGAAAATTAAAGAAGGCCGTCAGGGCGTGAGCGGCACCCAGCTGTATGTGGATAACGTGACCCGTGTGGGCCATTGCTTTAGCGCGGATAGCCTGATTAACCTGTGCGATTATCAGGCGCGTGCGCAGCAGGTGCATGGCGGCCTGGTGATGCTGACCGCGAACGCGGATGGCCTGCGTTGCCAGACCCTGCTGCAGCGTGTGAGCGATGCG\n"
     ]
    }
   ],
   "source": [
    "print(codon_output) #this generates the optimised codons for mupB expression"
   ]
  },
  {
   "cell_type": "code",
   "execution_count": 88,
   "id": "df330082-ec81-4843-ae42-a530b6c36f8b",
   "metadata": {},
   "outputs": [],
   "source": [
    "mupB_express = Seq(codon_output)"
   ]
  },
  {
   "cell_type": "code",
   "execution_count": 89,
   "id": "d1c6b9da-d2f2-41f5-9038-7e67b004a40c",
   "metadata": {},
   "outputs": [],
   "source": [
    "mupB_rna = mupB_express.transcribe()\n",
    "mupB_protein = mupB_rna.translate()\n",
    "#print(mupB_protein)"
   ]
  },
  {
   "cell_type": "code",
   "execution_count": 90,
   "id": "0a4d8675-0ff6-49bb-9a62-d3b52c53c889",
   "metadata": {},
   "outputs": [
    {
     "name": "stdout",
     "output_type": "stream",
     "text": [
      "The optimised codons have worked to express MupB\n"
     ]
    }
   ],
   "source": [
    "if mupB_protein == mupB_seq: #This code is being used to check whether the dictionary I set up\n",
    "                            #to find the optimised codons for MupB expression in E. coli, when transcribed and translated\n",
    "                            #would produce the same amino acids that are in MupB original sequence that was taken from NCBI \n",
    "                            #the 'if' statement should tell me whether this worked\n",
    "   print(f\"The optimised codons have worked to express MupB\")\n",
    "else:\n",
    "    print(f\"The optimised codons have not worked - the MupB sequences are not the same\")"
   ]
  },
  {
   "cell_type": "code",
   "execution_count": 91,
   "id": "7e299bfd-cead-4928-99d2-ac571fe9bf38",
   "metadata": {},
   "outputs": [
    {
     "name": "stdout",
     "output_type": "stream",
     "text": [
      "903\n",
      "219\n",
      "326\n"
     ]
    }
   ],
   "source": [
    "#using code found online at https://python.plainenglish.io/bioinformatics-in-python-dna-toolkit-part-3-gc-content-calculation-618993e0278c\n",
    "\n",
    "length_codons = print(len(codon_output)) #calculating the number of codons\n",
    "n_cytosines = print(codon_output.count(\"C\")) #counting the number of C's in the codon sequence\n",
    "n_guanines = print(codon_output.count(\"G\")) #counting the number of G's in the codon sequence"
   ]
  },
  {
   "cell_type": "code",
   "execution_count": 92,
   "id": "23825ad3-941a-47fb-a15a-5449ae7b2e77",
   "metadata": {},
   "outputs": [
    {
     "data": {
      "text/plain": [
       "60"
      ]
     },
     "execution_count": 92,
     "metadata": {},
     "output_type": "execute_result"
    }
   ],
   "source": [
    "#To calculate the GC content of the codon_output - from https://python.plainenglish.io/bioinformatics-in-python-dna-toolkit-part-3-gc-content-calculation-618993e0278c\n",
    "\n",
    "def gc_content(codon_output): \n",
    "    return round((codon_output.count(\"C\") + codon_output.count(\"G\"))/(len(codon_output)) * 100)\n",
    "\n",
    "gc_content(codon_output) #calculating the GC content of the mupB_codon sequence (percentage)"
   ]
  },
  {
   "cell_type": "code",
   "execution_count": 93,
   "id": "06822d98-bfbd-4961-9410-070ba5fc2314",
   "metadata": {},
   "outputs": [],
   "source": [
    "#print(mupB_express) - can use to find the 5' --> 3'primer sequence (or codon_output from above)"
   ]
  },
  {
   "cell_type": "code",
   "execution_count": 94,
   "id": "1ecfb5bd-a135-4cae-af10-a06958448565",
   "metadata": {},
   "outputs": [],
   "source": [
    "compliment_mupB = mupB_express.complement()"
   ]
  },
  {
   "cell_type": "code",
   "execution_count": 61,
   "id": "8accb355-6cbd-40de-9667-b41075ef07ef",
   "metadata": {},
   "outputs": [
    {
     "name": "stdout",
     "output_type": "stream",
     "text": [
      "TACGCATGGCGCATAGACCGCTCGTGGCGCATACACGACCCGCTTGTCCGCGTACTAATAGCACTACGCCGCTCGAAACTTCGCCACACGTTTGTCGTATCGTACGGCCTAAAACGCTCGCACAAACCGACCCCGTGGATAACCGCATGGTGGGCATCGCACCCGCTTGACGACCACCTTTCGCACCGCTCGTGGGACCGCTCGTCGCCGGACGCACCGACGCTATAACTACGCGACCACCACACGTCGTCGTTGAAACTTTCGCCGGTCCACCACCTAATAGACGGCGACGACGCACTTGACGTCGACCGCGCACGCAAAGGCGACCCGCACTGGACCCCGCTAACGTGGTACGACGACCGCCCGGACCTTCACCGCGCACGCGTCCACGACCGCCCGGACCTATTGCACGACCACCACTCGCGCTTGGCATAACTTCTACTTCGCAAAGCAAAAGTCGTAATACGCGACAAATCGCTACCGCGCCGCTCGACGGACCACTGGTCGCCGGCAGCAGCACCGAAACTTTACGACCCGTCGGACCGCGCATCGTTGCGCCCGGACCGCGTACTAGGCTTTCTTCTACTATGGGCAGACAAAGCACTTCACGTACTTGTCAAATACGTAGCAGTCGTCTAATTGTGGCGCCTAGACCTTGTCCACCACACGTCGTTGCACAAAGACGGCCACGACTTTTAATTTCTTCCGGCAGTCCCGCACTCGCCGTGGGTCGACATACACCTATTGCACTGGGCACACCCGGTAACGAAATCGCGCCTATCGGACTAATTGGACACGCTAATAGTCCGCGCACGCGTCGTCCACGTACCGCCGGACCACTACGACTGGCGCTTGCGCCTACCGGACGCAACGGTCTGGGACGACGTCGCACACTCGCTACGC\n"
     ]
    }
   ],
   "source": [
    "print(compliment_mupB) #in order to find the reverse 3'--> 5' primer sequence"
   ]
  },
  {
   "cell_type": "markdown",
   "id": "3c475070-c81f-490a-a735-c1e0d943d978",
   "metadata": {},
   "source": [
    "__Primer design__\n",
    "\n",
    "-- Considering information https://www.thermofisher.com/blog/behindthebench/pcr-primer-design-tips/\n",
    "To design a primer for expressing mupB in E coli: \n",
    "- Take the first 6 codons from the forward codon sequence \n",
    "- Take the last 6 codons from the complimentary codon sequence"
   ]
  },
  {
   "cell_type": "code",
   "execution_count": 103,
   "id": "2452386b-55b5-4b3d-a337-404b66982904",
   "metadata": {},
   "outputs": [],
   "source": [
    "#When the MupB optimised codon output (above DNA sequence) would be ordered, it would come in a plasmid from the vendor\n",
    "#Below is the design of a basic set of primer sequences that I generated from the forward and reverse sequences of MupB\n",
    "\n",
    "mupB_forward_primer = Seq(\"ATGCGTACCGCGTATCTG\") \n",
    "mupB_reverse_primer = Seq(\"GTCGCACACTCGCTACGC\")\n",
    "\n",
    "#Creating an object for the forward and reverse primers that would anneal to the MupB DNA and then these strands \n",
    "#could be edited/appended to include any enzyme restriction sites or extra codons that may be desired for the user to ligate\n",
    "#into a different plasmid"
   ]
  },
  {
   "cell_type": "code",
   "execution_count": 63,
   "id": "dc74e882-71e4-4bfc-9899-e39612b3aec9",
   "metadata": {},
   "outputs": [
    {
     "data": {
      "text/plain": [
       "56"
      ]
     },
     "execution_count": 63,
     "metadata": {},
     "output_type": "execute_result"
    }
   ],
   "source": [
    "def gc_content(mupB_forward_primer): \n",
    "    return round((mupB_forward_primer.count(\"C\") + mupB_forward_primer.count(\"G\"))/(len(mupB_forward_primer)) * 100)\n",
    "\n",
    "gc_content(mupB_forward_primer) #finding the GC content of the forward primer"
   ]
  },
  {
   "cell_type": "code",
   "execution_count": 107,
   "id": "44b5b199-7838-449b-b178-e726925d7413",
   "metadata": {},
   "outputs": [
    {
     "data": {
      "text/plain": [
       "67"
      ]
     },
     "execution_count": 107,
     "metadata": {},
     "output_type": "execute_result"
    }
   ],
   "source": [
    "def gc_content(mupB_reverse_primer): \n",
    "    return round((mupB_reverse_primer.count(\"C\") + mupB_reverse_primer.count(\"G\"))/(len(mupB_reverse_primer)) * 100)\n",
    "\n",
    "gc_content(mupB_reverse_primer) #finding the GC content of the forward primer\n",
    "\n",
    "#There is a difference in the GC content which could affect \n",
    "            #the Tm of the two primers (should not be more than 5 degrees - which means they could be incompatible\n",
    "            #would need to investigate the primers/their lengths to try and find more matching\n",
    "        #GC content should aim to be between 40-60%\n",
    "        #Above 60% GC content could suggest that DMSO could be added to the reaction mixture during PCR to minimise\n",
    "        #the self-annealing of the primers"
   ]
  },
  {
   "cell_type": "code",
   "execution_count": 104,
   "id": "e7835083-6191-4d1e-9d24-3bc1b72aa630",
   "metadata": {},
   "outputs": [],
   "source": [
    "#Adding EcoRI restriction enzyme sites (GAATTC) to the different primer strands (the plasmid we use would have the EcoRI cohesive ends to insert these strands)\n",
    "#This is incase the original plasmid that is given by the vendor is undesired, and I wanted to amplify the MupB sequence through PCR and ligate to another (new/desired) plasmid that has the EcoRI restriction sites\n",
    "\n",
    "mupB_forward_primer_ecoRI = Seq(\"GAATTCATGCGTACCGCGTATCTGGCG\") #adding an extra codon on from the MupB sequence to try and alter the GC content\n",
    "mupB_reverse_primer_ecoRI = Seq(\"GTCGCACACTCGCTACGCCTTAAG\")\n",
    "\n",
    "#In this code, I have manually added the EcoRI restriction sites (GAATTC) to the start of the forward primer and end of the reverse primer\n",
    "#Could think about writing a line of code which automatically appends the primer sequences from a list of restriction enzyme sites"
   ]
  },
  {
   "cell_type": "code",
   "execution_count": 105,
   "id": "e54e4365-88e7-4af2-83c4-f5f4111d2fb4",
   "metadata": {},
   "outputs": [
    {
     "data": {
      "text/plain": [
       "56"
      ]
     },
     "execution_count": 105,
     "metadata": {},
     "output_type": "execute_result"
    }
   ],
   "source": [
    "def gc_content(mupB_forward_primer_ecoRI): \n",
    "    return round((mupB_forward_primer_ecoRI.count(\"C\") + mupB_forward_primer_ecoRI.count(\"G\"))/(len(mupB_forward_primer_ecoRI)) * 100)\n",
    "\n",
    "gc_content(mupB_forward_primer_ecoRI) #finding the GC content of the forward primer"
   ]
  },
  {
   "cell_type": "code",
   "execution_count": 106,
   "id": "c764c72b-974b-455f-a4a4-b5d4d623f749",
   "metadata": {},
   "outputs": [
    {
     "data": {
      "text/plain": [
       "58"
      ]
     },
     "execution_count": 106,
     "metadata": {},
     "output_type": "execute_result"
    }
   ],
   "source": [
    "def gc_content(mupB_reverse_primer_ecoRI): \n",
    "    return round((mupB_reverse_primer_ecoRI.count(\"C\") + mupB_reverse_primer_ecoRI.count(\"G\"))/(len(mupB_reverse_primer_ecoRI)) * 100)\n",
    "\n",
    "gc_content(mupB_reverse_primer_ecoRI)"
   ]
  },
  {
   "cell_type": "markdown",
   "id": "3a435735-10bf-4503-aae8-01125542b667",
   "metadata": {},
   "source": [
    "__Determining the total molecular weight__"
   ]
  },
  {
   "cell_type": "code",
   "execution_count": 68,
   "id": "cc67adb7-c32a-47df-9cec-0d8b0766e982",
   "metadata": {},
   "outputs": [],
   "source": [
    "#Dictionary for the amino acid molecular weight\n",
    "\n",
    "amino_acid_mw = { \n",
    "    'A': '89', 'R': '174', 'N': '132', 'D': '133', 'C': '121', \n",
    "    'Q': '146', 'E': '147', 'G': '75', 'H': '155', 'I': '131',\n",
    "    'L': '131', 'K': '146', 'M': '149', 'F': '165', 'P': '115', \n",
    "    'S': '105', 'T': '119', 'W': '204', 'Y': '181', 'V': '117'    \n",
    "}"
   ]
  },
  {
   "cell_type": "code",
   "execution_count": 69,
   "id": "720dfaab-83c1-4f27-99d9-472a0ec1c9aa",
   "metadata": {},
   "outputs": [],
   "source": [
    "mupB_mw = []"
   ]
  },
  {
   "cell_type": "code",
   "execution_count": 70,
   "id": "a3a903b7-63fd-4d5d-b47c-ca13b3757971",
   "metadata": {},
   "outputs": [],
   "source": [
    "for residue in mupB_seq: #looking for the amino acids in the mubB_seq\n",
    "    molecular_weight = amino_acid_mw[residue]\n",
    "    mupB_mw.append(molecular_weight) "
   ]
  },
  {
   "cell_type": "code",
   "execution_count": 71,
   "id": "f0b42f87-1c75-4cf0-8d64-95d82ddfdb74",
   "metadata": {},
   "outputs": [],
   "source": [
    "total_mw = \"_\".join(mupB_mw)"
   ]
  },
  {
   "cell_type": "code",
   "execution_count": 72,
   "id": "6a6d7719-1e88-4f1e-9c5d-5e72de7ce9db",
   "metadata": {},
   "outputs": [],
   "source": [
    "#print(total_mw)"
   ]
  },
  {
   "cell_type": "code",
   "execution_count": 73,
   "id": "7d87b5e6-7fc1-4a64-80b4-114f48e425da",
   "metadata": {},
   "outputs": [],
   "source": [
    "num = int(total_mw)"
   ]
  },
  {
   "cell_type": "code",
   "execution_count": 74,
   "id": "d3783552-55e4-49f8-afa2-867847dd1893",
   "metadata": {},
   "outputs": [],
   "source": [
    "#sum(total_mw)\n",
    "        #This code was giving me errors 'unsupported operand type(s) for +: 'int' and 'str''\n",
    "#that I assume was because the code could not add all the integers that I had generated from the 'total_mw' string"
   ]
  },
  {
   "cell_type": "code",
   "execution_count": 75,
   "id": "6e2a4f44-80bd-40b0-9ca5-99e05ba27546",
   "metadata": {},
   "outputs": [],
   "source": [
    "#using code that I got from https://www.geeksforgeeks.org/python-converting-all-strings-in-list-to-integers/\n",
    "#I have tried to create a new list with the mupB_mw list and convert the numbers as integers into this new list\n",
    "for i in range(0, len(mupB_mw)):\n",
    "    mupB_mw[i] = int(mupB_mw[i])"
   ]
  },
  {
   "cell_type": "code",
   "execution_count": 76,
   "id": "b9c5ab9f-bd3b-4039-b8a0-4cff6b1a5e1e",
   "metadata": {},
   "outputs": [
    {
     "data": {
      "text/plain": [
       "38354"
      ]
     },
     "execution_count": 76,
     "metadata": {},
     "output_type": "execute_result"
    }
   ],
   "source": [
    "sum(mupB_mw) #now that I have managed to make the list into integers, I was able to add all the mw \n",
    "            #of the amino acids in mupB sequence - this gives me a total mw of the protein"
   ]
  },
  {
   "cell_type": "markdown",
   "id": "4a5d217a-b181-4790-b4d9-53c3f45d96c7",
   "metadata": {},
   "source": [
    "__Conclusions:__\n",
    "\n",
    "- Biopython was used to import the MupB sequence from NCBI\n",
    "- Using a dictionary of optimised *E. coli* codons, the MupB protein amino acid sequence was converted to optimised DNA codons for expression in *E. coli* (called codon_output)\n",
    "- Using a function sourced online, the GC content of the overall MupB DNA sequence was found to be 60%\n",
    "- Primer sequences were selected by using the first 6 codons in the forward strand and the last 6 codons sequences generated by complimentation of the mupB sequence (using .compliment() function)\n",
    "- The same GC function was applied to both these primer strands and found that the GC contents were not similiar - this could affect the Tm of both strands and make them incompatible - **future work should look into editing these primer sequences to find two primers that match GC content**\n",
    "- Finally, using a dictionary of amino acid molecular weights, the total Mw of the MupB sequence was determined by using the loop operation, then converting the list generated into integers and then summing all numbers\n",
    "\n",
    "**Further future work could look into using the MupB DNA sequence, converting it into a list and then editing different amino acids in order to build a library of MupB mutants - the same round of code could be applied for expressing these MupB mutants**"
   ]
  }
 ],
 "metadata": {
  "kernelspec": {
   "display_name": "Python 3 (ipykernel)",
   "language": "python",
   "name": "python3"
  },
  "language_info": {
   "codemirror_mode": {
    "name": "ipython",
    "version": 3
   },
   "file_extension": ".py",
   "mimetype": "text/x-python",
   "name": "python",
   "nbconvert_exporter": "python",
   "pygments_lexer": "ipython3",
   "version": "3.9.7"
  }
 },
 "nbformat": 4,
 "nbformat_minor": 5
}
